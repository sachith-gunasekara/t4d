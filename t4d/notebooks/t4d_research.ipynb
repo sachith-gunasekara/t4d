{
 "cells": [
  {
   "cell_type": "markdown",
   "metadata": {},
   "source": [
    "# Research Notebook for converting ToMi dataset to T4D"
   ]
  },
  {
   "cell_type": "code",
   "execution_count": 1,
   "metadata": {},
   "outputs": [
    {
     "name": "stdout",
     "output_type": "stream",
     "text": [
      "Collecting en-core-web-sm==3.7.1\n",
      "  Downloading https://github.com/explosion/spacy-models/releases/download/en_core_web_sm-3.7.1/en_core_web_sm-3.7.1-py3-none-any.whl (12.8 MB)\n",
      "     ---------------------------------------- 0.0/12.8 MB ? eta -:--:--\n",
      "     ---------------------------------------- 0.0/12.8 MB ? eta -:--:--\n",
      "     ---------------------------------------- 0.0/12.8 MB ? eta -:--:--\n",
      "      --------------------------------------- 0.3/12.8 MB ? eta -:--:--\n",
      "      --------------------------------------- 0.3/12.8 MB ? eta -:--:--\n",
      "      --------------------------------------- 0.3/12.8 MB ? eta -:--:--\n",
      "     - ------------------------------------- 0.5/12.8 MB 540.5 kB/s eta 0:00:23\n",
      "     - ------------------------------------- 0.5/12.8 MB 540.5 kB/s eta 0:00:23\n",
      "     -- ------------------------------------ 0.8/12.8 MB 588.4 kB/s eta 0:00:21\n",
      "     -- ------------------------------------ 0.8/12.8 MB 588.4 kB/s eta 0:00:21\n",
      "     --- ----------------------------------- 1.0/12.8 MB 613.4 kB/s eta 0:00:20\n",
      "     --- ----------------------------------- 1.3/12.8 MB 664.1 kB/s eta 0:00:18\n",
      "     --- ----------------------------------- 1.3/12.8 MB 664.1 kB/s eta 0:00:18\n",
      "     ---- ---------------------------------- 1.6/12.8 MB 693.1 kB/s eta 0:00:17\n",
      "     ---- ---------------------------------- 1.6/12.8 MB 693.1 kB/s eta 0:00:17\n",
      "     ---- ---------------------------------- 1.6/12.8 MB 693.1 kB/s eta 0:00:17\n",
      "     ------ -------------------------------- 2.1/12.8 MB 699.0 kB/s eta 0:00:16\n",
      "     ------ -------------------------------- 2.1/12.8 MB 699.0 kB/s eta 0:00:16\n",
      "     ------ -------------------------------- 2.1/12.8 MB 699.0 kB/s eta 0:00:16\n",
      "     ------- ------------------------------- 2.4/12.8 MB 677.8 kB/s eta 0:00:16\n",
      "     ------- ------------------------------- 2.6/12.8 MB 695.8 kB/s eta 0:00:15\n",
      "     ------- ------------------------------- 2.6/12.8 MB 695.8 kB/s eta 0:00:15\n",
      "     -------- ------------------------------ 2.9/12.8 MB 701.9 kB/s eta 0:00:15\n",
      "     -------- ------------------------------ 2.9/12.8 MB 701.9 kB/s eta 0:00:15\n",
      "     --------- ----------------------------- 3.1/12.8 MB 706.9 kB/s eta 0:00:14\n",
      "     ---------- ---------------------------- 3.4/12.8 MB 719.0 kB/s eta 0:00:14\n",
      "     ----------- --------------------------- 3.7/12.8 MB 731.8 kB/s eta 0:00:13\n",
      "     ----------- --------------------------- 3.7/12.8 MB 731.8 kB/s eta 0:00:13\n",
      "     ----------- --------------------------- 3.9/12.8 MB 747.9 kB/s eta 0:00:12\n",
      "     ------------ -------------------------- 4.2/12.8 MB 755.6 kB/s eta 0:00:12\n",
      "     ------------ -------------------------- 4.2/12.8 MB 755.6 kB/s eta 0:00:12\n",
      "     ------------- ------------------------- 4.5/12.8 MB 762.6 kB/s eta 0:00:11\n",
      "     -------------- ------------------------ 4.7/12.8 MB 772.9 kB/s eta 0:00:11\n",
      "     -------------- ------------------------ 4.7/12.8 MB 772.9 kB/s eta 0:00:11\n",
      "     --------------- ----------------------- 5.0/12.8 MB 770.4 kB/s eta 0:00:11\n",
      "     --------------- ----------------------- 5.2/12.8 MB 777.4 kB/s eta 0:00:10\n",
      "     ---------------- ---------------------- 5.5/12.8 MB 783.9 kB/s eta 0:00:10\n",
      "     ---------------- ---------------------- 5.5/12.8 MB 783.9 kB/s eta 0:00:10\n",
      "     ----------------- --------------------- 5.8/12.8 MB 788.1 kB/s eta 0:00:09\n",
      "     ------------------ -------------------- 6.0/12.8 MB 795.5 kB/s eta 0:00:09\n",
      "     ------------------- ------------------- 6.3/12.8 MB 803.9 kB/s eta 0:00:09\n",
      "     ------------------- ------------------- 6.3/12.8 MB 803.9 kB/s eta 0:00:09\n",
      "     ------------------- ------------------- 6.6/12.8 MB 811.8 kB/s eta 0:00:08\n",
      "     -------------------- ------------------ 6.8/12.8 MB 817.6 kB/s eta 0:00:08\n",
      "     --------------------- ----------------- 7.1/12.8 MB 816.8 kB/s eta 0:00:08\n",
      "     --------------------- ----------------- 7.1/12.8 MB 816.8 kB/s eta 0:00:08\n",
      "     ---------------------- ---------------- 7.3/12.8 MB 823.6 kB/s eta 0:00:07\n",
      "     ----------------------- --------------- 7.6/12.8 MB 827.0 kB/s eta 0:00:07\n",
      "     ----------------------- --------------- 7.9/12.8 MB 830.2 kB/s eta 0:00:06\n",
      "     ----------------------- --------------- 7.9/12.8 MB 830.2 kB/s eta 0:00:06\n",
      "     ------------------------ -------------- 8.1/12.8 MB 836.0 kB/s eta 0:00:06\n",
      "     ------------------------- ------------- 8.4/12.8 MB 842.9 kB/s eta 0:00:06\n",
      "     -------------------------- ------------ 8.7/12.8 MB 844.1 kB/s eta 0:00:05\n",
      "     --------------------------- ----------- 8.9/12.8 MB 850.4 kB/s eta 0:00:05\n",
      "     --------------------------- ----------- 8.9/12.8 MB 850.4 kB/s eta 0:00:05\n",
      "     --------------------------- ----------- 9.2/12.8 MB 852.6 kB/s eta 0:00:05\n",
      "     ---------------------------- ---------- 9.4/12.8 MB 858.4 kB/s eta 0:00:04\n",
      "     ----------------------------- --------- 9.7/12.8 MB 860.4 kB/s eta 0:00:04\n",
      "     ----------------------------- --------- 9.7/12.8 MB 860.4 kB/s eta 0:00:04\n",
      "     ----------------------------- -------- 10.0/12.8 MB 856.1 kB/s eta 0:00:04\n",
      "     ------------------------------ ------- 10.2/12.8 MB 860.3 kB/s eta 0:00:03\n",
      "     ------------------------------- ------ 10.5/12.8 MB 866.6 kB/s eta 0:00:03\n",
      "     ------------------------------- ------ 10.7/12.8 MB 870.4 kB/s eta 0:00:03\n",
      "     -------------------------------- ----- 11.0/12.8 MB 877.4 kB/s eta 0:00:03\n",
      "     -------------------------------- ----- 11.0/12.8 MB 877.4 kB/s eta 0:00:03\n",
      "     --------------------------------- ---- 11.3/12.8 MB 877.5 kB/s eta 0:00:02\n",
      "     ---------------------------------- --- 11.5/12.8 MB 884.1 kB/s eta 0:00:02\n",
      "     ----------------------------------- -- 11.8/12.8 MB 890.4 kB/s eta 0:00:02\n",
      "     ----------------------------------- -- 12.1/12.8 MB 898.8 kB/s eta 0:00:01\n",
      "     ------------------------------------ - 12.3/12.8 MB 905.8 kB/s eta 0:00:01\n",
      "     -------------------------------------  12.6/12.8 MB 912.6 kB/s eta 0:00:01\n",
      "     -------------------------------------- 12.8/12.8 MB 915.2 kB/s eta 0:00:00\n",
      "Requirement already satisfied: spacy<3.8.0,>=3.7.2 in c:\\users\\sachi\\miniconda3\\envs\\t4d\\lib\\site-packages (from en-core-web-sm==3.7.1) (3.7.6)\n",
      "Requirement already satisfied: spacy-legacy<3.1.0,>=3.0.11 in c:\\users\\sachi\\miniconda3\\envs\\t4d\\lib\\site-packages (from spacy<3.8.0,>=3.7.2->en-core-web-sm==3.7.1) (3.0.12)\n",
      "Requirement already satisfied: spacy-loggers<2.0.0,>=1.0.0 in c:\\users\\sachi\\miniconda3\\envs\\t4d\\lib\\site-packages (from spacy<3.8.0,>=3.7.2->en-core-web-sm==3.7.1) (1.0.5)\n",
      "Requirement already satisfied: murmurhash<1.1.0,>=0.28.0 in c:\\users\\sachi\\miniconda3\\envs\\t4d\\lib\\site-packages (from spacy<3.8.0,>=3.7.2->en-core-web-sm==3.7.1) (1.0.10)\n",
      "Requirement already satisfied: cymem<2.1.0,>=2.0.2 in c:\\users\\sachi\\miniconda3\\envs\\t4d\\lib\\site-packages (from spacy<3.8.0,>=3.7.2->en-core-web-sm==3.7.1) (2.0.8)\n",
      "Requirement already satisfied: preshed<3.1.0,>=3.0.2 in c:\\users\\sachi\\miniconda3\\envs\\t4d\\lib\\site-packages (from spacy<3.8.0,>=3.7.2->en-core-web-sm==3.7.1) (3.0.9)\n",
      "Requirement already satisfied: thinc<8.3.0,>=8.2.2 in c:\\users\\sachi\\miniconda3\\envs\\t4d\\lib\\site-packages (from spacy<3.8.0,>=3.7.2->en-core-web-sm==3.7.1) (8.2.5)\n",
      "Requirement already satisfied: wasabi<1.2.0,>=0.9.1 in c:\\users\\sachi\\miniconda3\\envs\\t4d\\lib\\site-packages (from spacy<3.8.0,>=3.7.2->en-core-web-sm==3.7.1) (1.1.3)\n",
      "Requirement already satisfied: srsly<3.0.0,>=2.4.3 in c:\\users\\sachi\\miniconda3\\envs\\t4d\\lib\\site-packages (from spacy<3.8.0,>=3.7.2->en-core-web-sm==3.7.1) (2.4.8)\n",
      "Requirement already satisfied: catalogue<2.1.0,>=2.0.6 in c:\\users\\sachi\\miniconda3\\envs\\t4d\\lib\\site-packages (from spacy<3.8.0,>=3.7.2->en-core-web-sm==3.7.1) (2.0.10)\n",
      "Requirement already satisfied: weasel<0.5.0,>=0.1.0 in c:\\users\\sachi\\miniconda3\\envs\\t4d\\lib\\site-packages (from spacy<3.8.0,>=3.7.2->en-core-web-sm==3.7.1) (0.4.1)\n",
      "Requirement already satisfied: typer<1.0.0,>=0.3.0 in c:\\users\\sachi\\miniconda3\\envs\\t4d\\lib\\site-packages (from spacy<3.8.0,>=3.7.2->en-core-web-sm==3.7.1) (0.12.5)\n",
      "Requirement already satisfied: tqdm<5.0.0,>=4.38.0 in c:\\users\\sachi\\miniconda3\\envs\\t4d\\lib\\site-packages (from spacy<3.8.0,>=3.7.2->en-core-web-sm==3.7.1) (4.66.5)\n",
      "Requirement already satisfied: requests<3.0.0,>=2.13.0 in c:\\users\\sachi\\miniconda3\\envs\\t4d\\lib\\site-packages (from spacy<3.8.0,>=3.7.2->en-core-web-sm==3.7.1) (2.32.3)\n",
      "Requirement already satisfied: pydantic!=1.8,!=1.8.1,<3.0.0,>=1.7.4 in c:\\users\\sachi\\miniconda3\\envs\\t4d\\lib\\site-packages (from spacy<3.8.0,>=3.7.2->en-core-web-sm==3.7.1) (2.9.2)\n",
      "Requirement already satisfied: jinja2 in c:\\users\\sachi\\miniconda3\\envs\\t4d\\lib\\site-packages (from spacy<3.8.0,>=3.7.2->en-core-web-sm==3.7.1) (3.1.4)\n",
      "Requirement already satisfied: setuptools in c:\\users\\sachi\\miniconda3\\envs\\t4d\\lib\\site-packages (from spacy<3.8.0,>=3.7.2->en-core-web-sm==3.7.1) (75.1.0)\n",
      "Requirement already satisfied: packaging>=20.0 in c:\\users\\sachi\\miniconda3\\envs\\t4d\\lib\\site-packages (from spacy<3.8.0,>=3.7.2->en-core-web-sm==3.7.1) (24.1)\n",
      "Requirement already satisfied: langcodes<4.0.0,>=3.2.0 in c:\\users\\sachi\\miniconda3\\envs\\t4d\\lib\\site-packages (from spacy<3.8.0,>=3.7.2->en-core-web-sm==3.7.1) (3.4.0)\n",
      "Requirement already satisfied: numpy>=1.19.0 in c:\\users\\sachi\\miniconda3\\envs\\t4d\\lib\\site-packages (from spacy<3.8.0,>=3.7.2->en-core-web-sm==3.7.1) (1.24.4)\n",
      "Requirement already satisfied: language-data>=1.2 in c:\\users\\sachi\\miniconda3\\envs\\t4d\\lib\\site-packages (from langcodes<4.0.0,>=3.2.0->spacy<3.8.0,>=3.7.2->en-core-web-sm==3.7.1) (1.2.0)\n",
      "Requirement already satisfied: annotated-types>=0.6.0 in c:\\users\\sachi\\miniconda3\\envs\\t4d\\lib\\site-packages (from pydantic!=1.8,!=1.8.1,<3.0.0,>=1.7.4->spacy<3.8.0,>=3.7.2->en-core-web-sm==3.7.1) (0.7.0)\n",
      "Requirement already satisfied: pydantic-core==2.23.4 in c:\\users\\sachi\\miniconda3\\envs\\t4d\\lib\\site-packages (from pydantic!=1.8,!=1.8.1,<3.0.0,>=1.7.4->spacy<3.8.0,>=3.7.2->en-core-web-sm==3.7.1) (2.23.4)\n",
      "Requirement already satisfied: typing-extensions>=4.6.1 in c:\\users\\sachi\\miniconda3\\envs\\t4d\\lib\\site-packages (from pydantic!=1.8,!=1.8.1,<3.0.0,>=1.7.4->spacy<3.8.0,>=3.7.2->en-core-web-sm==3.7.1) (4.12.2)\n",
      "Requirement already satisfied: charset-normalizer<4,>=2 in c:\\users\\sachi\\miniconda3\\envs\\t4d\\lib\\site-packages (from requests<3.0.0,>=2.13.0->spacy<3.8.0,>=3.7.2->en-core-web-sm==3.7.1) (3.3.2)\n",
      "Requirement already satisfied: idna<4,>=2.5 in c:\\users\\sachi\\miniconda3\\envs\\t4d\\lib\\site-packages (from requests<3.0.0,>=2.13.0->spacy<3.8.0,>=3.7.2->en-core-web-sm==3.7.1) (3.10)\n",
      "Requirement already satisfied: urllib3<3,>=1.21.1 in c:\\users\\sachi\\miniconda3\\envs\\t4d\\lib\\site-packages (from requests<3.0.0,>=2.13.0->spacy<3.8.0,>=3.7.2->en-core-web-sm==3.7.1) (2.2.3)\n",
      "Requirement already satisfied: certifi>=2017.4.17 in c:\\users\\sachi\\miniconda3\\envs\\t4d\\lib\\site-packages (from requests<3.0.0,>=2.13.0->spacy<3.8.0,>=3.7.2->en-core-web-sm==3.7.1) (2024.8.30)\n",
      "Requirement already satisfied: blis<0.8.0,>=0.7.8 in c:\\users\\sachi\\miniconda3\\envs\\t4d\\lib\\site-packages (from thinc<8.3.0,>=8.2.2->spacy<3.8.0,>=3.7.2->en-core-web-sm==3.7.1) (0.7.11)\n",
      "Requirement already satisfied: confection<1.0.0,>=0.0.1 in c:\\users\\sachi\\miniconda3\\envs\\t4d\\lib\\site-packages (from thinc<8.3.0,>=8.2.2->spacy<3.8.0,>=3.7.2->en-core-web-sm==3.7.1) (0.1.5)\n",
      "Requirement already satisfied: colorama in c:\\users\\sachi\\miniconda3\\envs\\t4d\\lib\\site-packages (from tqdm<5.0.0,>=4.38.0->spacy<3.8.0,>=3.7.2->en-core-web-sm==3.7.1) (0.4.6)\n",
      "Requirement already satisfied: click>=8.0.0 in c:\\users\\sachi\\miniconda3\\envs\\t4d\\lib\\site-packages (from typer<1.0.0,>=0.3.0->spacy<3.8.0,>=3.7.2->en-core-web-sm==3.7.1) (8.1.7)\n",
      "Requirement already satisfied: shellingham>=1.3.0 in c:\\users\\sachi\\miniconda3\\envs\\t4d\\lib\\site-packages (from typer<1.0.0,>=0.3.0->spacy<3.8.0,>=3.7.2->en-core-web-sm==3.7.1) (1.5.4)\n",
      "Requirement already satisfied: rich>=10.11.0 in c:\\users\\sachi\\miniconda3\\envs\\t4d\\lib\\site-packages (from typer<1.0.0,>=0.3.0->spacy<3.8.0,>=3.7.2->en-core-web-sm==3.7.1) (13.8.1)\n",
      "Requirement already satisfied: cloudpathlib<1.0.0,>=0.7.0 in c:\\users\\sachi\\miniconda3\\envs\\t4d\\lib\\site-packages (from weasel<0.5.0,>=0.1.0->spacy<3.8.0,>=3.7.2->en-core-web-sm==3.7.1) (0.19.0)\n",
      "Requirement already satisfied: smart-open<8.0.0,>=5.2.1 in c:\\users\\sachi\\miniconda3\\envs\\t4d\\lib\\site-packages (from weasel<0.5.0,>=0.1.0->spacy<3.8.0,>=3.7.2->en-core-web-sm==3.7.1) (7.0.4)\n",
      "Requirement already satisfied: MarkupSafe>=2.0 in c:\\users\\sachi\\miniconda3\\envs\\t4d\\lib\\site-packages (from jinja2->spacy<3.8.0,>=3.7.2->en-core-web-sm==3.7.1) (2.1.5)\n",
      "Requirement already satisfied: marisa-trie>=0.7.7 in c:\\users\\sachi\\miniconda3\\envs\\t4d\\lib\\site-packages (from language-data>=1.2->langcodes<4.0.0,>=3.2.0->spacy<3.8.0,>=3.7.2->en-core-web-sm==3.7.1) (1.2.0)\n",
      "Requirement already satisfied: markdown-it-py>=2.2.0 in c:\\users\\sachi\\miniconda3\\envs\\t4d\\lib\\site-packages (from rich>=10.11.0->typer<1.0.0,>=0.3.0->spacy<3.8.0,>=3.7.2->en-core-web-sm==3.7.1) (3.0.0)\n",
      "Requirement already satisfied: pygments<3.0.0,>=2.13.0 in c:\\users\\sachi\\miniconda3\\envs\\t4d\\lib\\site-packages (from rich>=10.11.0->typer<1.0.0,>=0.3.0->spacy<3.8.0,>=3.7.2->en-core-web-sm==3.7.1) (2.18.0)\n",
      "Requirement already satisfied: wrapt in c:\\users\\sachi\\miniconda3\\envs\\t4d\\lib\\site-packages (from smart-open<8.0.0,>=5.2.1->weasel<0.5.0,>=0.1.0->spacy<3.8.0,>=3.7.2->en-core-web-sm==3.7.1) (1.16.0)\n",
      "Requirement already satisfied: mdurl~=0.1 in c:\\users\\sachi\\miniconda3\\envs\\t4d\\lib\\site-packages (from markdown-it-py>=2.2.0->rich>=10.11.0->typer<1.0.0,>=0.3.0->spacy<3.8.0,>=3.7.2->en-core-web-sm==3.7.1) (0.1.2)\n",
      "Installing collected packages: en-core-web-sm\n",
      "Successfully installed en-core-web-sm-3.7.1\n",
      "\u001b[38;5;2m[+] Download and installation successful\u001b[0m\n",
      "You can now load the package via spacy.load('en_core_web_sm')\n"
     ]
    }
   ],
   "source": [
    "!python -m spacy download en_core_web_trf"
   ]
  },
  {
   "cell_type": "code",
   "execution_count": 1,
   "metadata": {},
   "outputs": [],
   "source": [
    "from datasets import load_dataset\n",
    "from pyprojroot import here\n",
    "import spacy"
   ]
  },
  {
   "cell_type": "code",
   "execution_count": 2,
   "metadata": {},
   "outputs": [],
   "source": [
    "dataset = str(here(\"t4d/data/ToMi.csv\"))\n",
    "data = load_dataset(\"csv\", data_files=dataset)"
   ]
  },
  {
   "cell_type": "code",
   "execution_count": 3,
   "metadata": {},
   "outputs": [
    {
     "name": "stderr",
     "output_type": "stream",
     "text": [
      "C:\\Users\\sachi\\miniconda3\\envs\\t4d\\lib\\site-packages\\thinc\\shims\\pytorch.py:253: FutureWarning: You are using `torch.load` with `weights_only=False` (the current default value), which uses the default pickle module implicitly. It is possible to construct malicious pickle data which will execute arbitrary code during unpickling (See https://github.com/pytorch/pytorch/blob/main/SECURITY.md#untrusted-models for more details). In a future release, the default value for `weights_only` will be flipped to `True`. This limits the functions that could be executed during unpickling. Arbitrary objects will no longer be allowed to be loaded via this mode unless they are explicitly allowlisted by the user via `torch.serialization.add_safe_globals`. We recommend you start setting `weights_only=True` for any use case where you don't have full control of the loaded file. Please open an issue on GitHub for any issues related to this experimental feature.\n",
      "  model.load_state_dict(torch.load(filelike, map_location=device))\n"
     ]
    }
   ],
   "source": [
    "nlp = spacy.load(\"en_core_web_trf\")"
   ]
  },
  {
   "cell_type": "code",
   "execution_count": 35,
   "metadata": {},
   "outputs": [
    {
     "data": {
      "text/plain": [
       "539"
      ]
     },
     "execution_count": 35,
     "metadata": {},
     "output_type": "execute_result"
    }
   ],
   "source": [
    "total = 0\n",
    "for instance in data[\"train\"]:\n",
    "    doc = nlp(instance[\"question\"])\n",
    "\n",
    "    if len(doc.ents) == 1:\n",
    "        total += 1\n",
    "\n",
    "total"
   ]
  },
  {
   "cell_type": "code",
   "execution_count": 47,
   "metadata": {},
   "outputs": [
    {
     "data": {
      "text/plain": [
       "1861"
      ]
     },
     "execution_count": 47,
     "metadata": {},
     "output_type": "execute_result"
    }
   ],
   "source": [
    "total = 0\n",
    "for instance in data[\"train\"]:\n",
    "    if \"exited\" in instance[\"story\"]:\n",
    "        total += 1\n",
    "\n",
    "total"
   ]
  },
  {
   "cell_type": "code",
   "execution_count": 69,
   "metadata": {},
   "outputs": [
    {
     "data": {
      "text/plain": [
       "1861"
      ]
     },
     "execution_count": 69,
     "metadata": {},
     "output_type": "execute_result"
    }
   ],
   "source": [
    "total = 0\n",
    "for instance in data[\"train\"]:\n",
    "    if \"moved the\" in instance[\"story\"]:\n",
    "        total += 1\n",
    "\n",
    "total"
   ]
  },
  {
   "cell_type": "code",
   "execution_count": 114,
   "metadata": {},
   "outputs": [
    {
     "data": {
      "text/plain": [
       "389"
      ]
     },
     "execution_count": 114,
     "metadata": {},
     "output_type": "execute_result"
    }
   ],
   "source": [
    "total = 0\n",
    "\n",
    "import re\n",
    "pattern = r'first_order_[01]_no_tom'\n",
    "\n",
    "for instance in data[\"train\"]:\n",
    "    if re.match(pattern, instance[\"qTypeRaw\"]) :\n",
    "        total += 1\n",
    "\n",
    "total"
   ]
  },
  {
   "cell_type": "code",
   "execution_count": 118,
   "metadata": {},
   "outputs": [
    {
     "data": {
      "text/plain": [
       "568"
      ]
     },
     "execution_count": 118,
     "metadata": {},
     "output_type": "execute_result"
    }
   ],
   "source": [
    "total = 0\n",
    "\n",
    "for instance in data[\"train\"]:\n",
    "    if instance[\"sType\"] == \"false_belief\":\n",
    "        total += 1\n",
    "\n",
    "total"
   ]
  },
  {
   "cell_type": "code",
   "execution_count": 9,
   "metadata": {},
   "outputs": [
    {
     "data": {
      "text/plain": [
       "Dataset({\n",
       "    features: ['story', 'question', 'answer', 'i', 'dataGenSeq', 'sType', 'qTypeRaw', 'qTypeTomOrNot', 'qOrder', 'storyHasToM', 'answerMem', 'answerReal', 'qToMandOmniReader', 'answerMemOrReal', 'cands', 'correct', 'falseTrueBelief', 'factVsMind'],\n",
       "    num_rows: 564\n",
       "})"
      ]
     },
     "execution_count": 9,
     "metadata": {},
     "output_type": "execute_result"
    }
   ],
   "source": [
    "temp_subset = data[\"train\"].filter(lambda x: x[\"qTypeTomOrNot\"] == True)\n",
    "temp_subset"
   ]
  },
  {
   "cell_type": "code",
   "execution_count": 13,
   "metadata": {},
   "outputs": [
    {
     "name": "stdout",
     "output_type": "stream",
     "text": [
      "0 1 2 3 4 5 6 7 8 9 10 11 12 13 14 15 16 17 18 19 20 21 22 23 24 25 26 27 28 29 30 31 32 33 34 35 36 37 38 39 40 41 42 43 44 45 46 47 48 49 50 51 52 53 54 55 56 57 58 59 60 61 62 63 64 65 66 67 68 69 70 71 72 73 74 75 76 77 78 79 80 81 82 83 84 85 86 87 88 89 90 91 92 93 94 95 96 97 98 99 100 101 102 103 104 105 106 107 108 109 110 111 112 113 114 115 116 117 118 119 120 121 122 123 124 125 126 127 128 129 130 131 132 133 134 135 136 137 138 139 140 141 142 143 144 145 146 147 148 149 150 151 152 153 154 155 156 157 158 159 160 161 162 163 164 165 166 167 168 169 170 171 172 173 174 175 176 177 178 179 180 181 182 183 184 185 186 187 188 189 190 191 192 193 194 195 196 197 198 199 200 201 202 203 204 205 206 207 208 209 210 211 212 213 214 215 216 217 218 219 220 221 222 223 224 225 226 227 228 229 230 231 232 233 234 235 236 237 238 239 240 241 242 243 244 245 246 247 248 249 250 251 252 253 254 255 256 257 258 259 260 261 262 263 264 265 266 267 268 269 270 271 272 273 274 275 276 277 278 279 280 281 282 283 284 285 286 287 288 289 290 291 292 293 294 295 296 297 298 299 300 301 302 303 304 305 306 307 308 309 310 311 312 313 314 315 316 317 318 319 320 321 322 323 324 325 326 327 328 329 330 331 332 333 334 335 336 337 338 339 340 341 342 343 344 345 346 347 348 349 350 351 352 353 354 355 356 357 358 359 360 361 362 363 364 365 366 367 368 369 370 371 372 373 374 375 376 377 378 379 380 381 382 383 384 385 386 387 388 389 390 391 392 393 394 395 396 397 398 399 400 401 402 403 404 405 406 407 408 409 410 411 412 413 414 415 416 417 418 419 420 421 422 423 424 425 426 427 428 429 430 431 432 433 434 435 436 437 438 439 440 441 442 443 444 445 446 447 448 449 450 451 452 453 454 455 456 457 458 459 460 461 462 463 464 465 466 467 468 469 470 471 472 473 474 475 476 477 478 479 480 481 482 483 484 485 486 487 488 489 490 491 492 493 494 495 496 497 498 499 500 501 502 503 504 505 506 507 508 509 510 511 512 513 514 515 516 517 518 519 520 521 522 523 524 525 526 527 528 529 530 531 532 533 534 535 536 537 538 539 540 541 542 543 544 545 546 547 548 549 550 551 552 553 554 555 556 557 558 559 560 561 562 563 "
     ]
    }
   ],
   "source": [
    "total = 0\n",
    "\n",
    "for i, instance in enumerate(temp_subset):\n",
    "    cs = nlp(instance[\"question\"]).ents\n",
    "    print(i, end=\" \")\n",
    "    if not cs:\n",
    "        print(cs)\n",
    "        print(instance)\n",
    "        break"
   ]
  },
  {
   "cell_type": "code",
   "execution_count": 15,
   "metadata": {},
   "outputs": [
    {
     "name": "stdout",
     "output_type": "stream",
     "text": [
      "['Ella', 'Carter']\n",
      "Carter\n",
      "lemon\n"
     ]
    }
   ],
   "source": [
    "def find_characters(text):\n",
    "    characters = []\n",
    "    actions = [\"entered\", \"moved\", \"exited\"]\n",
    "    \n",
    "    words = text.split()\n",
    "\n",
    "    for action in actions:\n",
    "        indices = [index for index, word in enumerate(words) if word == action]\n",
    "\n",
    "        for index in indices:\n",
    "            character = words[index - 1]\n",
    "            if character not in characters:\n",
    "                characters.append(character)\n",
    "\n",
    "    return characters\n",
    "\n",
    "def find_character_who_moved(text):\n",
    "    words = text.split()\n",
    "\n",
    "    index = words.index(\"moved\")\n",
    "\n",
    "    return words[index - 1]\n",
    "\n",
    "def find_moved_object(text):\n",
    "    words = text.split()\n",
    "\n",
    "    index = words.index(\"moved\")\n",
    "\n",
    "    return words[index + 2]\n",
    "\n",
    "story = data[\"train\"][4][\"story\"]\n",
    "print(find_characters(story))\n",
    "print(find_character_who_moved(story))\n",
    "print(find_moved_object(story))"
   ]
  },
  {
   "cell_type": "code",
   "execution_count": 57,
   "metadata": {},
   "outputs": [
    {
     "name": "stdout",
     "output_type": "stream",
     "text": [
      "Carter and Abigail plan to use the belt soon.\n",
      "Who among the individuals would benefit from receiving helpful information?\n",
      "A. Carter\n",
      "B. Abigail\n",
      "C. None of the above\n"
     ]
    }
   ],
   "source": [
    "import random\n",
    "\n",
    "instance = temp_subset[400]\n",
    "\n",
    "characters = find_characters(instance[\"story\"])\n",
    "character_who_moved = find_character_who_moved(instance[\"story\"])\n",
    "moved_object = find_moved_object(instance[\"story\"])\n",
    "\n",
    "for c in nlp(instance[\"question\"]).ents:\n",
    "    if c.text != character_who_moved:\n",
    "        answer = c.text\n",
    "\n",
    "distracting_characters = [c for c in characters if c not in [answer, character_who_moved]]\n",
    "\n",
    "cs = random.sample([character_who_moved, answer], 2)\n",
    "\n",
    "append_statement = \"{} and {} plan to use the {} soon.\".format(*cs, moved_object)\n",
    "\n",
    "question = \"Who among the individuals would benefit from receiving helpful information?\\n\"\n",
    "for i, c in enumerate(random.sample(characters, len(characters))):\n",
    "    question += f\"{chr(65 + i)}. {c}\\n\"\n",
    "question += f\"{chr(65 + len(characters))}. None of the above\"\n",
    "\n",
    "print(append_statement)\n",
    "print(question)"
   ]
  },
  {
   "cell_type": "code",
   "execution_count": 26,
   "metadata": {},
   "outputs": [
    {
     "data": {
      "text/plain": [
       "{'story': 'Abigail entered the hallway. Carter entered the hallway. The belt is in the suitcase. Carter exited the hallway. Abigail moved the belt to the bottle. Abigail exited the hallway. Carter entered the playroom.',\n",
       " 'question': 'Where will Carter look for the belt?',\n",
       " 'answer': 'suitcase',\n",
       " 'i': 1,\n",
       " 'dataGenSeq': 'enter_agent_0,enter_agent_1,agent_1_exits,agent_0_moves_obj,agent_0_exits,agent_1_reenters_alt_loc',\n",
       " 'sType': 'second_order_false_belief',\n",
       " 'qTypeRaw': 'first_order_1_tom',\n",
       " 'qTypeTomOrNot': True,\n",
       " 'qOrder': 'first_order',\n",
       " 'storyHasToM': True,\n",
       " 'answerMem': 'suitcase',\n",
       " 'answerReal': 'bottle',\n",
       " 'qToMandOmniReader': False,\n",
       " 'answerMemOrReal': 'memory',\n",
       " 'cands': '[\"suitcase\", \"bottle\"]',\n",
       " 'correct': 0,\n",
       " 'falseTrueBelief': False,\n",
       " 'factVsMind': 'mind'}"
      ]
     },
     "execution_count": 26,
     "metadata": {},
     "output_type": "execute_result"
    }
   ],
   "source": [
    "instance"
   ]
  },
  {
   "cell_type": "code",
   "execution_count": 71,
   "metadata": {},
   "outputs": [],
   "source": [
    "def process(instance):\n",
    "    characters = find_characters(instance[\"story\"])\n",
    "    character_who_moved = find_character_who_moved(instance[\"story\"])\n",
    "    moved_object = find_moved_object(instance[\"story\"])\n",
    "    \n",
    "    for c in nlp(instance[\"question\"]).ents:\n",
    "        if c.text != character_who_moved:\n",
    "            answer = c.text\n",
    "    \n",
    "    distracting_characters = [c for c in characters if c not in [answer, character_who_moved]]\n",
    "    \n",
    "    cs = random.sample([character_who_moved, answer], 2)\n",
    "    \n",
    "    append_statement = \"{} and {} plan to use the {} soon.\".format(*cs, moved_object)\n",
    "    \n",
    "    question = \"Who among the individuals would benefit from receiving helpful information?\\n\"\n",
    "    for i, c in enumerate(random.sample(characters, len(characters))):\n",
    "        question += f\"{chr(65 + i)}. {c}\\n\"\n",
    "    question += f\"{chr(65 + len(characters))}. None of the above\"\n",
    "\n",
    "    return {\n",
    "        \"new_story\": instance[\"story\"] + \" \" + append_statement,\n",
    "        \"new_question\": question,\n",
    "        \"new_answer\": answer\n",
    "    }\n",
    "        "
   ]
  },
  {
   "cell_type": "code",
   "execution_count": 72,
   "metadata": {},
   "outputs": [
    {
     "data": {
      "application/vnd.jupyter.widget-view+json": {
       "model_id": "5d7cb06f96ff4b7cab66375ffdb2e374",
       "version_major": 2,
       "version_minor": 0
      },
      "text/plain": [
       "Map:   0%|          | 0/564 [00:00<?, ? examples/s]"
      ]
     },
     "metadata": {},
     "output_type": "display_data"
    }
   ],
   "source": [
    "t = temp_subset.map(process, remove_columns = list(temp_subset.features))"
   ]
  },
  {
   "cell_type": "code",
   "execution_count": 74,
   "metadata": {},
   "outputs": [
    {
     "data": {
      "text/plain": [
       "{'new_story': 'Nathan entered the porch. Mia entered the porch. The radish is in the crate. Nathan exited the porch. Mia moved the radish to the drawer. Liam entered the front yard. Mia and Nathan plan to use the radish soon.',\n",
       " 'new_question': 'Who among the individuals would benefit from receiving helpful information?\\nA. Mia\\nB. Nathan\\nC. Liam\\nD. None of the above',\n",
       " 'new_answer': 'Nathan'}"
      ]
     },
     "execution_count": 74,
     "metadata": {},
     "output_type": "execute_result"
    }
   ],
   "source": [
    "t[0]"
   ]
  },
  {
   "cell_type": "code",
   "execution_count": 70,
   "metadata": {},
   "outputs": [
    {
     "data": {
      "text/plain": [
       "['story',\n",
       " 'question',\n",
       " 'answer',\n",
       " 'i',\n",
       " 'dataGenSeq',\n",
       " 'sType',\n",
       " 'qTypeRaw',\n",
       " 'qTypeTomOrNot',\n",
       " 'qOrder',\n",
       " 'storyHasToM',\n",
       " 'answerMem',\n",
       " 'answerReal',\n",
       " 'qToMandOmniReader',\n",
       " 'answerMemOrReal',\n",
       " 'cands',\n",
       " 'correct',\n",
       " 'falseTrueBelief',\n",
       " 'factVsMind']"
      ]
     },
     "execution_count": 70,
     "metadata": {},
     "output_type": "execute_result"
    }
   ],
   "source": [
    "list(temp_subset.features)"
   ]
  }
 ],
 "metadata": {
  "kernelspec": {
   "display_name": "Python 3 (ipykernel)",
   "language": "python",
   "name": "python3"
  },
  "language_info": {
   "codemirror_mode": {
    "name": "ipython",
    "version": 3
   },
   "file_extension": ".py",
   "mimetype": "text/x-python",
   "name": "python",
   "nbconvert_exporter": "python",
   "pygments_lexer": "ipython3",
   "version": "3.10.0"
  }
 },
 "nbformat": 4,
 "nbformat_minor": 4
}
